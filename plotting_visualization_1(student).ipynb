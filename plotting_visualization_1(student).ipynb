{
 "cells": [
  {
   "cell_type": "markdown",
   "metadata": {},
   "source": [
    "# 1. 그래프와 시각화"
   ]
  },
  {
   "cell_type": "markdown",
   "metadata": {},
   "source": [
    "- 막대 그래프\n",
    "- 히스토그램\n",
    "- 선 그래프\n",
    "- 산점도"
   ]
  },
  {
   "cell_type": "markdown",
   "metadata": {},
   "source": [
    "## 막대 그래프\n",
    "- 막대 그래프는 범주별로 도수, 횟수, 퍼센트 등의 크기만큼 막대를 그리는 그래프\n",
    "- 범주별 미세한 차이를 명확하게 전달할 수 있는 그래프"
   ]
  },
  {
   "cell_type": "markdown",
   "metadata": {},
   "source": [
    "### 막대 그래프 예제\n",
    "- 영화별 아카데미 수상 횟수\n",
    "<p>\n",
    "<table cellspacing=\"20\">\n",
    "<tr>\n",
    "    <td>영화 제목</td>\n",
    "    <td>Annie Hall</td>\n",
    "    <td>Ben-Hur</td>\n",
    "    <td>Casablanca</td>\n",
    "    <td>Gandhi</td>\n",
    "    <td>West Side Story</td>\n",
    "</tr>\n",
    "<tr>\n",
    "    <td>수상 횟수</td>\n",
    "    <td>5</td>\n",
    "    <td>11</td>\n",
    "    <td>3</td>\n",
    "    <td>8</td>\n",
    "    <td>10</td>\n",
    "</tr>\n",
    "</table>\n",
    "</p>"
   ]
  },
  {
   "cell_type": "markdown",
   "metadata": {},
   "source": [
    "* x 축: 범주(영화 제목)\n",
    "* y 축: 도수(수상 횟수)"
   ]
  },
  {
   "cell_type": "code",
   "execution_count": 1,
   "metadata": {},
   "outputs": [
    {
     "ename": "ModuleNotFoundError",
     "evalue": "No module named 'matplotlib'",
     "output_type": "error",
     "traceback": [
      "\u001b[0;31m---------------------------------------------------------------------------\u001b[0m",
      "\u001b[0;31mModuleNotFoundError\u001b[0m                       Traceback (most recent call last)",
      "Cell \u001b[0;32mIn [1], line 2\u001b[0m\n\u001b[1;32m      1\u001b[0m \u001b[39m#from matplotlib import pyplot as plt\u001b[39;00m\n\u001b[0;32m----> 2\u001b[0m \u001b[39mimport\u001b[39;00m \u001b[39mmatplotlib\u001b[39;00m\n",
      "\u001b[0;31mModuleNotFoundError\u001b[0m: No module named 'matplotlib'"
     ]
    }
   ],
   "source": [
    "#from matplotlib import pyplot as plt\n",
    "import matplotlib"
   ]
  },
  {
   "cell_type": "code",
   "execution_count": 5,
   "metadata": {},
   "outputs": [],
   "source": [
    "movies = [\"Annie Hall\", \"Ben-Hur\", \"Casablanca\", \"Gandhi\", \"West Side Story\"]\n",
    "num_oscars = [5, 11, 3, 8, 10]"
   ]
  },
  {
   "cell_type": "code",
   "execution_count": null,
   "metadata": {},
   "outputs": [],
   "source": []
  },
  {
   "cell_type": "markdown",
   "metadata": {},
   "source": [
    "### 막대 그래프 유의사항\n",
    "- X 축과 Y축을 지정할때는 주의해야 한다. "
   ]
  },
  {
   "cell_type": "markdown",
   "metadata": {},
   "source": [
    "- 2017년과 2018년 사람들이 데이터 과학에 대해 언급하는 것을 경험한 횟수\n",
    "<table>\n",
    "<tr>\n",
    "    <td>연도</td>\n",
    "    <td>2017</td>\n",
    "    <td>2018</td>\n",
    "</tr>\n",
    "<tr>\n",
    "    <td>횟수</td>\n",
    "    <td>500</td>\n",
    "    <td>505</td>\n",
    "</tr>\n",
    "</table>"
   ]
  },
  {
   "cell_type": "markdown",
   "metadata": {},
   "source": [
    "#### y축의 시작을 499로 잡는 경우"
   ]
  },
  {
   "cell_type": "code",
   "execution_count": 5,
   "metadata": {},
   "outputs": [],
   "source": [
    "mentions = [500, 505]\n",
    "years = [2017, 2018]"
   ]
  },
  {
   "cell_type": "markdown",
   "metadata": {},
   "source": [
    "#### y축의 시작을 0으로 잡는 경우"
   ]
  },
  {
   "cell_type": "code",
   "execution_count": null,
   "metadata": {},
   "outputs": [],
   "source": []
  },
  {
   "cell_type": "markdown",
   "metadata": {},
   "source": [
    "## 히스토그램"
   ]
  },
  {
   "cell_type": "markdown",
   "metadata": {},
   "source": [
    "- 막대 그래프의 한 종류\n",
    "- 양적 데이터를 범주로 사용할 때 유용하다.\n",
    "    - 예를 들어, 무게, 길이, 시간, 점수 등 \n",
    "    \n",
    "- 숫자의 범위에 따라 나뉘어진 데이터를 막대 그래프로 보여줄 때 사용한다.\n",
    "    - 양적 데이터들의 연속성을 반영하기 위해 막대 그래프들 사이의 간극이 없도록 표현한다.\n",
    "    - 정해진 구간에 해당되는 항목의 개수나 빈도수를 보여주어 값의 분포를 쉽게 관찰\n",
    "    \n",
    "__참고__\n",
    "- 질적 자료\n",
    "    - 사칙 연산이 불가능\n",
    "    - 비계측 자료(Nonmetric Data) 혹은 범주형 자료(Categorical Data)\n",
    "    - 예) 직업, 종교, 성별\n",
    "\n",
    "- 양적 자료\n",
    "    - 사칙 연산 가능\n",
    "    - 계측 자료(Metric Data) 혹은 숫자형 자료(Numerical Data)\n",
    "    - 예) 몸무게, 용돈, 가격"
   ]
  },
  {
   "cell_type": "markdown",
   "metadata": {},
   "source": [
    "### 히스토그램 예제\n",
    "\n",
    "학생들의 점수가 다음과 같다.\n",
    "\n",
    "    83, 95, 91, 87, 70, 0, 85, 82, 100, 67, 73, 77, 0\n",
    "\n",
    "점수를 십분위수(10점 단위로 구분)로 구분하면 아래 표를 얻는다. "
   ]
  },
  {
   "cell_type": "markdown",
   "metadata": {},
   "source": [
    "<p>\n",
    "<table cellspacing=\"20\">\n",
    "<tr>\n",
    "    <td>점수 구간(십분위수)</td>\n",
    "    <td>0-9</td>\n",
    "    <td>10-19</td>\n",
    "    <td>20-29</td>\n",
    "    <td>30-39</td>\n",
    "    <td>40-49</td>\n",
    "    <td>50-59</td>\n",
    "    <td>60-69</td>\n",
    "    <td>70-79</td>\n",
    "    <td>80-89</td>\n",
    "    <td>90-100</td>\n",
    "</tr>\n",
    "<tr>\n",
    "    <td>학생 수</td>\n",
    "    <td>2</td>\n",
    "    <td>0</td>\n",
    "    <td>0</td>\n",
    "    <td>0</td>\n",
    "    <td>0</td>\n",
    "    <td>0</td>\n",
    "    <td>1</td>\n",
    "    <td>3</td>\n",
    "    <td>4</td>\n",
    "    <td>3</td>\n",
    "</tr>\n",
    "</table>\n",
    "</p>"
   ]
  },
  {
   "cell_type": "markdown",
   "metadata": {},
   "source": [
    "위 데이터를 히스토그램으로 나타내면 다음과 같다."
   ]
  },
  {
   "cell_type": "markdown",
   "metadata": {},
   "source": [
    "* x 축: 점수 구간\n",
    "* y 축: 학생 수"
   ]
  },
  {
   "cell_type": "code",
   "execution_count": 6,
   "metadata": {},
   "outputs": [],
   "source": [
    "from collections import Counter\n",
    "grades = [83, 95, 91, 87, 70, 0, 85, 82, 100, 67, 73, 77, 0]\n",
    "\n",
    "histogram = Counter(min(grade // 10 * 10, 90) for grade in grades)"
   ]
  },
  {
   "cell_type": "code",
   "execution_count": null,
   "metadata": {},
   "outputs": [],
   "source": []
  },
  {
   "cell_type": "markdown",
   "metadata": {},
   "source": [
    "## 선 그래프"
   ]
  },
  {
   "cell_type": "markdown",
   "metadata": {},
   "source": [
    "선 그래프는 막대 그래프의 상단 중심부를 선분으로 연결하여 범주별 변화를 비교하는 그래프이다. \n",
    "시계열 데이터에 대한 정보를 전달할 때 유용하다."
   ]
  },
  {
   "cell_type": "markdown",
   "metadata": {},
   "source": [
    "### 선 그래프 예제\n",
    "\n",
    "1950년 부터 10년 주기로 미국 국내총생산(GDP)를 정리한 표가 다음과 같다. \n",
    "단위는 10억달러이다. "
   ]
  },
  {
   "cell_type": "markdown",
   "metadata": {},
   "source": [
    "<p>\n",
    "<table cellspacing=\"20\">\n",
    "<tr>\n",
    "    <td>연도</td>\n",
    "    <td>1950</td>\n",
    "    <td>1960</td>\n",
    "    <td>1970</td>\n",
    "    <td>1980</td>\n",
    "    <td>1990</td>\n",
    "    <td>2000</td>\n",
    "    <td>2010</td>\n",
    "</tr>\n",
    "<tr>\n",
    "    <td>GDP</td>\n",
    "    <td>300.2</td>\n",
    "    <td>543.3</td>\n",
    "    <td>1075.9</td>\n",
    "    <td>2862.5</td>\n",
    "    <td>5979.6</td>\n",
    "    <td>10289.7</td>\n",
    "    <td>14958.3</td>\n",
    "</tr>\n",
    "</table>\n",
    "</p>"
   ]
  },
  {
   "cell_type": "markdown",
   "metadata": {},
   "source": [
    "위 데이터를 선 그래프로 나타내면 다음과 같다."
   ]
  },
  {
   "cell_type": "markdown",
   "metadata": {},
   "source": [
    "* x 축: 연도\n",
    "* y 축: GDP"
   ]
  },
  {
   "cell_type": "code",
   "execution_count": 16,
   "metadata": {},
   "outputs": [],
   "source": [
    "years = [1950, 1960, 1970, 1980, 1990, 2000, 2010]\n",
    "gdp = [300.2, 543.3, 1075.9, 2862.5, 5979.6, 10289.7, 14958.3]"
   ]
  },
  {
   "cell_type": "code",
   "execution_count": null,
   "metadata": {},
   "outputs": [],
   "source": []
  },
  {
   "cell_type": "markdown",
   "metadata": {},
   "source": [
    "## 산점도"
   ]
  },
  {
   "cell_type": "markdown",
   "metadata": {},
   "source": [
    "산점도는 두 변수 간의 연관 관계를 2차원 평면 상에서 점으로 찍어 보여 주는 그래프이다. "
   ]
  },
  {
   "cell_type": "markdown",
   "metadata": {},
   "source": [
    "### 산점도 예제\n",
    "\n",
    "어떤 웹사이트 회원의 친구 수와 하룻동안의 사이트 이용시간 사이의 연관 관계를 담은 표가 다음과 같다."
   ]
  },
  {
   "cell_type": "markdown",
   "metadata": {},
   "source": [
    "<p>\n",
    "<table cellspacing=\"20\">\n",
    "<tr>\n",
    "    <td>친구 수</td>\n",
    "    <td>70</td>\n",
    "    <td>65</td>\n",
    "    <td>72</td>\n",
    "    <td>63</td>\n",
    "    <td>71</td>\n",
    "    <td>64</td>\n",
    "    <td>60</td>\n",
    "    <td>64</td>\n",
    "    <td>67</td>\n",
    "</tr>\n",
    "<tr>\n",
    "    <td>이용 시간</td>\n",
    "    <td>175</td>\n",
    "    <td>170</td>\n",
    "    <td>205</td>\n",
    "    <td>120</td>\n",
    "    <td>220</td>\n",
    "    <td>130</td>\n",
    "    <td>105</td>\n",
    "    <td>145</td>\n",
    "    <td>190</td>\n",
    "</tr>\n",
    "<tr>\n",
    "    <td>사용자 라벨</td>\n",
    "    <td>a</td>\n",
    "    <td>b</td>\n",
    "    <td>c</td>\n",
    "    <td>d</td>\n",
    "    <td>e</td>\n",
    "    <td>f</td>\n",
    "    <td>g</td>\n",
    "    <td>h</td>\n",
    "    <td>i</td>\n",
    "</tr>\n",
    "</table>\n",
    "</p>"
   ]
  },
  {
   "cell_type": "markdown",
   "metadata": {},
   "source": [
    "위 데이터를 선 그래프로 나타내면 다음과 같다."
   ]
  },
  {
   "cell_type": "markdown",
   "metadata": {},
   "source": [
    "* x 축: 친구 수\n",
    "* y 축: 이용 시간"
   ]
  },
  {
   "cell_type": "code",
   "execution_count": 17,
   "metadata": {},
   "outputs": [],
   "source": [
    "friends = [ 70,  65,  72,  63,  71,  64,  60,  64,  67]\n",
    "minutes = [175, 170, 205, 120, 220, 130, 105, 145, 190]\n",
    "labels =  ['a', 'b', 'c', 'd', 'e', 'f', 'g', 'h', 'i']"
   ]
  },
  {
   "cell_type": "markdown",
   "metadata": {},
   "source": [
    "### 산점도 유의사항\n",
    "- 막대 그래프의 경우처럼 축을 지정시 유의해야함"
   ]
  },
  {
   "cell_type": "markdown",
   "metadata": {},
   "source": [
    "- 예) 다섯 명의 1차, 2차 테스트 점수 \n",
    "<p>\n",
    "<table cellspacing=\"20\">\n",
    "<tr>\n",
    "    <td>1차 테스트</td>\n",
    "    <td>99</td>\n",
    "    <td>90</td>\n",
    "    <td>85</td>\n",
    "    <td>97</td>\n",
    "    <td>80</td>\n",
    "</tr>\n",
    "<tr>\n",
    "    <td>2차 테스트</td>\n",
    "    <td>100</td>\n",
    "    <td>85</td>\n",
    "    <td>60</td>\n",
    "    <td>90</td>\n",
    "    <td>70</td>\n",
    "</tr>\n",
    "</table>\n",
    "</p>"
   ]
  },
  {
   "cell_type": "markdown",
   "metadata": {},
   "source": [
    "#### 축 지정\n",
    "\n",
    "* x 축: 1차 테스트 점수\n",
    "* y 축: 2차 테스트 점수"
   ]
  },
  {
   "cell_type": "markdown",
   "metadata": {},
   "source": [
    "#### 양 축의 척도(scale)가 다른 경우"
   ]
  },
  {
   "cell_type": "code",
   "execution_count": 19,
   "metadata": {},
   "outputs": [],
   "source": [
    "test_1_grades = [ 99, 90, 85, 97, 80]\n",
    "test_2_grades = [100, 85, 60, 90, 70]"
   ]
  },
  {
   "cell_type": "markdown",
   "metadata": {},
   "source": [
    "결론: 1차 테스트, 2차 테스트 점수가 별 변동이 없는 것으로 보인다."
   ]
  },
  {
   "cell_type": "markdown",
   "metadata": {},
   "source": [
    "#### 양 축의 척도가 동일한 경우"
   ]
  },
  {
   "cell_type": "code",
   "execution_count": 20,
   "metadata": {},
   "outputs": [],
   "source": [
    "test_1_grades = [ 99, 90, 85, 97, 80]\n",
    "test_2_grades = [100, 85, 60, 90, 70]"
   ]
  },
  {
   "cell_type": "markdown",
   "metadata": {},
   "source": [
    "결론: 1차 테스트 점수가 높은 친구가 2차 테스트에서 보다 높은 점수를 얻었음을 알 수 있다."
   ]
  }
 ],
 "metadata": {
  "kernelspec": {
   "display_name": "Python 3.10.6 ('pandas': venv)",
   "language": "python",
   "name": "python3"
  },
  "language_info": {
   "codemirror_mode": {
    "name": "ipython",
    "version": 3
   },
   "file_extension": ".py",
   "mimetype": "text/x-python",
   "name": "python",
   "nbconvert_exporter": "python",
   "pygments_lexer": "ipython3",
   "version": "3.10.6"
  },
  "vscode": {
   "interpreter": {
    "hash": "2735074a6133478c94f143b2bf7b1f4051dd9f3c898fae68d26d22c59ad9c93d"
   }
  }
 },
 "nbformat": 4,
 "nbformat_minor": 4
}
